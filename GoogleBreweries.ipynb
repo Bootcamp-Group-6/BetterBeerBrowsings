{
 "cells": [
  {
   "cell_type": "code",
   "execution_count": 1,
   "metadata": {},
   "outputs": [],
   "source": [
    "# Create code to answer each of the following questions.\n",
    "# Hint: You will need multiple target URLs and multiple API requests.\n",
    "\n",
    "# Dependencies\n",
    "import requests\n",
    "import json\n",
    "\n",
    "# Google API Key\n",
    "from config import gkey"
   ]
  },
  {
   "cell_type": "code",
   "execution_count": 2,
   "metadata": {},
   "outputs": [
    {
     "name": "stdout",
     "output_type": "stream",
     "text": [
      "Denver's Top Five Breweries\n",
      "Irish Snug\n",
      "1201 E Colfax Ave #100, Denver, CO 80218, USA\n",
      "Stoney's Bar and Grill\n",
      "1111 Lincoln St, Denver, CO 80203, USA\n",
      "Govnr's Park Tavern\n",
      "672 Logan St, Denver, CO 80203, USA\n",
      "Federal Bar and Grill\n",
      "2544 Federal Blvd, Denver, CO 80211, USA\n",
      "The Pioneer Bar\n",
      "2401 S University Blvd, Denver, CO 80210, USA\n"
     ]
    }
   ],
   "source": [
    "# (https://developers.google.com/places/web-service/search#TextSearchRequests)\n",
    "my_phrase = \"best trivia in Denver, CO\"\n",
    "target_url = \"https://maps.googleapis.com/maps/api/place/textsearch/json\"\n",
    "\n",
    "params = {\n",
    "    \"query\": my_phrase,\n",
    "    \"key\": gkey\n",
    "}\n",
    "\n",
    "print(\"Denver's Top Five Breweries\")\n",
    "\n",
    "response = requests.get(target_url, params)\n",
    "\n",
    "# print(response.url)\n",
    "happy_places = response.json()\n",
    "# print(json.dumps(happy_places, indent=4, sort_keys=True))\n",
    "\n",
    "counter = 0\n",
    "\n",
    "for place in happy_places[\"results\"]:\n",
    "    print(place[\"name\"])\n",
    "    print(place[\"formatted_address\"])\n",
    "    counter += 1\n",
    "    if counter == 5:\n",
    "        break"
   ]
  },
  {
   "cell_type": "code",
   "execution_count": null,
   "metadata": {},
   "outputs": [],
   "source": []
  }
 ],
 "metadata": {
  "kernelspec": {
   "display_name": "Python [conda env:PythonData]",
   "language": "python",
   "name": "conda-env-PythonData-py"
  },
  "language_info": {
   "codemirror_mode": {
    "name": "ipython",
    "version": 3
   },
   "file_extension": ".py",
   "mimetype": "text/x-python",
   "name": "python",
   "nbconvert_exporter": "python",
   "pygments_lexer": "ipython3",
   "version": "3.6.5"
  }
 },
 "nbformat": 4,
 "nbformat_minor": 2
}
