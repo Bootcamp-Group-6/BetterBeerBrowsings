{
 "cells": [
  {
   "cell_type": "code",
   "execution_count": 1,
   "metadata": {},
   "outputs": [],
   "source": [
    "\n",
    "# Dependencies\n",
    "import requests\n",
    "import json\n",
    "\n",
    "# Google API Key\n",
    "from config import gkey"
   ]
  },
  {
   "cell_type": "code",
   "execution_count": 3,
   "metadata": {},
   "outputs": [
    {
     "name": "stdout",
     "output_type": "stream",
     "text": [
      "Denver's Top Five Breweries\n",
      "Denver Beer Co\n",
      "1695 Platte St, Denver, CO 80202, USA\n",
      "Great Divide Brewing Co\n",
      "2201 Arapahoe St, Denver, CO 80205, USA\n",
      "Epic Brewing Company\n",
      "3001 Walnut St, Denver, CO 80205, USA\n",
      "Jagged Mountain Craft Brewery\n",
      "1139 20th St, Denver, CO 80202, USA\n",
      "Wynkoop Brewing Company\n",
      "1634 18th St, Denver, CO 80202, USA\n"
     ]
    }
   ],
   "source": [
    "# (https://developers.google.com/places/web-service/search#TextSearchRequests)\n",
    "my_phrase = \"best breweries in Denver, CO\"\n",
    "target_url = \"https://maps.googleapis.com/maps/api/place/textsearch/json\"\n",
    "\n",
    "params = {\n",
    "    \"query\": my_phrase,\n",
    "    \"key\": gkey\n",
    "}\n",
    "\n",
    "print(\"Denver's Top Five Breweries\")\n",
    "\n",
    "response = requests.get(target_url, params)\n",
    "\n",
    "# print(response.url)\n",
    "happy_breweries = response.json()\n",
    "# print(json.dumps(happy_brweries, indent=4, sort_keys=True))\n",
    "\n",
    "counter = 0\n",
    "\n",
    "for place in happy_breweries[\"results\"]:\n",
    "    print(place[\"name\"])\n",
    "    print(place[\"formatted_address\"])\n",
    "    counter += 1\n",
    "    if counter == 5:\n",
    "        break"
   ]
  },
  {
   "cell_type": "code",
   "execution_count": null,
   "metadata": {},
   "outputs": [],
   "source": []
  }
 ],
 "metadata": {
  "kernelspec": {
   "display_name": "Python [conda env:PythonData]",
   "language": "python",
   "name": "conda-env-PythonData-py"
  },
  "language_info": {
   "codemirror_mode": {
    "name": "ipython",
    "version": 3
   },
   "file_extension": ".py",
   "mimetype": "text/x-python",
   "name": "python",
   "nbconvert_exporter": "python",
   "pygments_lexer": "ipython3",
   "version": "3.6.5"
  }
 },
 "nbformat": 4,
 "nbformat_minor": 2
}
